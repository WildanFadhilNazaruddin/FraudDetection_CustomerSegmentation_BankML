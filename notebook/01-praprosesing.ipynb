{
  "cells": [
    {
      "cell_type": "markdown",
      "id": "5e9603a0",
      "metadata": {
        "id": "5e9603a0"
      },
      "source": [
        "# Analisis Data Cuaca BMKG Indonesia Tahun 2000–2025"
      ]
    },
    {
      "cell_type": "markdown",
      "id": "db7eddec",
      "metadata": {
        "id": "db7eddec"
      },
      "source": [
        "### Persiapan"
      ]
    },
    {
      "cell_type": "markdown",
      "id": "882d7512",
      "metadata": {
        "id": "882d7512"
      },
      "source": [
        "## Menyiapkan library yang dibutuhkan"
      ]
    },
    {
      "cell_type": "code",
      "execution_count": 1,
      "id": "dadf156e",
      "metadata": {
        "id": "dadf156e"
      },
      "outputs": [],
      "source": [
        "# Manipulasi Data\n",
        "import numpy as np\n",
        "import pandas as pd\n",
        "import matplotlib.pyplot as plt\n",
        "from matplotlib import rcParams\n",
        "%matplotlib inline\n",
        "import seaborn as sns\n",
        "import os\n",
        "import glob\n",
        "import openpyxl\n",
        "from sklearn.experimental import enable_iterative_imputer\n",
        "from sklearn.impute import IterativeImputer\n",
        "from sklearn.ensemble import RandomForestRegressor\n",
        "\n",
        "\n",
        "\n",
        "import warnings\n",
        "warnings.filterwarnings('ignore')"
      ]
    },
    {
      "cell_type": "markdown",
      "id": "bcf87bab",
      "metadata": {
        "id": "bcf87bab"
      },
      "source": [
        "## 1.Data wrangling"
      ]
    },
    {
      "cell_type": "markdown",
      "id": "c4372cd6",
      "metadata": {
        "id": "c4372cd6"
      },
      "source": [
        "### Data Gathering"
      ]
    },
    {
      "cell_type": "code",
      "execution_count": 2,
      "id": "eea22ff1",
      "metadata": {
        "id": "eea22ff1"
      },
      "outputs": [],
      "source": [
        "# set display options\n",
        "pd.set_option('display.max_columns', None)\n",
        "pd.set_option('display.max_rows', None)\n"
      ]
    },
    {
      "cell_type": "code",
      "execution_count": 6,
      "id": "9b9f0556",
      "metadata": {
        "id": "9b9f0556"
      },
      "outputs": [],
      "source": [
        "# import data\n",
        "df_bmkg1 = pd.read_csv('../content/laporan_iklim_harian-250609220217.csv',sep=';',decimal=',')\n",
        "df_bmkg2 = pd.read_csv('../content/laporan_iklim_harian-250609220319.csv',sep=';',decimal=',')\n"
      ]
    },
    {
      "cell_type": "markdown",
      "id": "6d37b28b",
      "metadata": {
        "id": "6d37b28b"
      },
      "source": [
        "#### Melihat Contoh data"
      ]
    },
    {
      "cell_type": "code",
      "execution_count": 8,
      "id": "ce872f5a",
      "metadata": {
        "id": "ce872f5a",
        "outputId": "60e6353b-e6b9-4532-d2b3-4509bc7d4483",
        "colab": {
          "base_uri": "https://localhost:8080/",
          "height": 80
        }
      },
      "outputs": [
        {
          "output_type": "execute_result",
          "data": {
            "text/plain": [
              "      TANGGAL  TN    TX  TAVG RH_AVG   RR SS FF_X DDD_X FF_AVG DDD_CAR\n",
              "0  01-01-2000  24  29,4  26,8     83  9,1  2    4   280      2      W "
            ],
            "text/html": [
              "\n",
              "  <div id=\"df-707474de-6a3c-4ceb-bfc1-9c8ee143b255\" class=\"colab-df-container\">\n",
              "    <div>\n",
              "<style scoped>\n",
              "    .dataframe tbody tr th:only-of-type {\n",
              "        vertical-align: middle;\n",
              "    }\n",
              "\n",
              "    .dataframe tbody tr th {\n",
              "        vertical-align: top;\n",
              "    }\n",
              "\n",
              "    .dataframe thead th {\n",
              "        text-align: right;\n",
              "    }\n",
              "</style>\n",
              "<table border=\"1\" class=\"dataframe\">\n",
              "  <thead>\n",
              "    <tr style=\"text-align: right;\">\n",
              "      <th></th>\n",
              "      <th>TANGGAL</th>\n",
              "      <th>TN</th>\n",
              "      <th>TX</th>\n",
              "      <th>TAVG</th>\n",
              "      <th>RH_AVG</th>\n",
              "      <th>RR</th>\n",
              "      <th>SS</th>\n",
              "      <th>FF_X</th>\n",
              "      <th>DDD_X</th>\n",
              "      <th>FF_AVG</th>\n",
              "      <th>DDD_CAR</th>\n",
              "    </tr>\n",
              "  </thead>\n",
              "  <tbody>\n",
              "    <tr>\n",
              "      <th>0</th>\n",
              "      <td>01-01-2000</td>\n",
              "      <td>24</td>\n",
              "      <td>29,4</td>\n",
              "      <td>26,8</td>\n",
              "      <td>83</td>\n",
              "      <td>9,1</td>\n",
              "      <td>2</td>\n",
              "      <td>4</td>\n",
              "      <td>280</td>\n",
              "      <td>2</td>\n",
              "      <td>W</td>\n",
              "    </tr>\n",
              "  </tbody>\n",
              "</table>\n",
              "</div>\n",
              "    <div class=\"colab-df-buttons\">\n",
              "\n",
              "  <div class=\"colab-df-container\">\n",
              "    <button class=\"colab-df-convert\" onclick=\"convertToInteractive('df-707474de-6a3c-4ceb-bfc1-9c8ee143b255')\"\n",
              "            title=\"Convert this dataframe to an interactive table.\"\n",
              "            style=\"display:none;\">\n",
              "\n",
              "  <svg xmlns=\"http://www.w3.org/2000/svg\" height=\"24px\" viewBox=\"0 -960 960 960\">\n",
              "    <path d=\"M120-120v-720h720v720H120Zm60-500h600v-160H180v160Zm220 220h160v-160H400v160Zm0 220h160v-160H400v160ZM180-400h160v-160H180v160Zm440 0h160v-160H620v160ZM180-180h160v-160H180v160Zm440 0h160v-160H620v160Z\"/>\n",
              "  </svg>\n",
              "    </button>\n",
              "\n",
              "  <style>\n",
              "    .colab-df-container {\n",
              "      display:flex;\n",
              "      gap: 12px;\n",
              "    }\n",
              "\n",
              "    .colab-df-convert {\n",
              "      background-color: #E8F0FE;\n",
              "      border: none;\n",
              "      border-radius: 50%;\n",
              "      cursor: pointer;\n",
              "      display: none;\n",
              "      fill: #1967D2;\n",
              "      height: 32px;\n",
              "      padding: 0 0 0 0;\n",
              "      width: 32px;\n",
              "    }\n",
              "\n",
              "    .colab-df-convert:hover {\n",
              "      background-color: #E2EBFA;\n",
              "      box-shadow: 0px 1px 2px rgba(60, 64, 67, 0.3), 0px 1px 3px 1px rgba(60, 64, 67, 0.15);\n",
              "      fill: #174EA6;\n",
              "    }\n",
              "\n",
              "    .colab-df-buttons div {\n",
              "      margin-bottom: 4px;\n",
              "    }\n",
              "\n",
              "    [theme=dark] .colab-df-convert {\n",
              "      background-color: #3B4455;\n",
              "      fill: #D2E3FC;\n",
              "    }\n",
              "\n",
              "    [theme=dark] .colab-df-convert:hover {\n",
              "      background-color: #434B5C;\n",
              "      box-shadow: 0px 1px 3px 1px rgba(0, 0, 0, 0.15);\n",
              "      filter: drop-shadow(0px 1px 2px rgba(0, 0, 0, 0.3));\n",
              "      fill: #FFFFFF;\n",
              "    }\n",
              "  </style>\n",
              "\n",
              "    <script>\n",
              "      const buttonEl =\n",
              "        document.querySelector('#df-707474de-6a3c-4ceb-bfc1-9c8ee143b255 button.colab-df-convert');\n",
              "      buttonEl.style.display =\n",
              "        google.colab.kernel.accessAllowed ? 'block' : 'none';\n",
              "\n",
              "      async function convertToInteractive(key) {\n",
              "        const element = document.querySelector('#df-707474de-6a3c-4ceb-bfc1-9c8ee143b255');\n",
              "        const dataTable =\n",
              "          await google.colab.kernel.invokeFunction('convertToInteractive',\n",
              "                                                    [key], {});\n",
              "        if (!dataTable) return;\n",
              "\n",
              "        const docLinkHtml = 'Like what you see? Visit the ' +\n",
              "          '<a target=\"_blank\" href=https://colab.research.google.com/notebooks/data_table.ipynb>data table notebook</a>'\n",
              "          + ' to learn more about interactive tables.';\n",
              "        element.innerHTML = '';\n",
              "        dataTable['output_type'] = 'display_data';\n",
              "        await google.colab.output.renderOutput(dataTable, element);\n",
              "        const docLink = document.createElement('div');\n",
              "        docLink.innerHTML = docLinkHtml;\n",
              "        element.appendChild(docLink);\n",
              "      }\n",
              "    </script>\n",
              "  </div>\n",
              "\n",
              "\n",
              "    </div>\n",
              "  </div>\n"
            ],
            "application/vnd.google.colaboratory.intrinsic+json": {
              "type": "dataframe",
              "variable_name": "df_bmkg1",
              "summary": "{\n  \"name\": \"df_bmkg1\",\n  \"rows\": 9301,\n  \"fields\": [\n    {\n      \"column\": \"TANGGAL\",\n      \"properties\": {\n        \"dtype\": \"string\",\n        \"num_unique_values\": 9283,\n        \"samples\": [\n          \"11-05-2000\",\n          \"14-10-2006\",\n          \"05-02-2002\"\n        ],\n        \"semantic_type\": \"\",\n        \"description\": \"\"\n      }\n    },\n    {\n      \"column\": \"TN\",\n      \"properties\": {\n        \"dtype\": \"category\",\n        \"num_unique_values\": 34,\n        \"samples\": [\n          \"26,2\",\n          \"25,6\",\n          \"26,1\"\n        ],\n        \"semantic_type\": \"\",\n        \"description\": \"\"\n      }\n    },\n    {\n      \"column\": \"TX\",\n      \"properties\": {\n        \"dtype\": \"category\",\n        \"num_unique_values\": 102,\n        \"samples\": [\n          \"28,2\",\n          \"34,5\",\n          \"27,4\"\n        ],\n        \"semantic_type\": \"\",\n        \"description\": \"\"\n      }\n    },\n    {\n      \"column\": \"TAVG\",\n      \"properties\": {\n        \"dtype\": \"category\",\n        \"num_unique_values\": 76,\n        \"samples\": [\n          \"24,7\",\n          \"27,3\",\n          \"27,6\"\n        ],\n        \"semantic_type\": \"\",\n        \"description\": \"\"\n      }\n    },\n    {\n      \"column\": \"RH_AVG\",\n      \"properties\": {\n        \"dtype\": \"category\",\n        \"num_unique_values\": 47,\n        \"samples\": [\n          \"61\",\n          \"58\",\n          \"69\"\n        ],\n        \"semantic_type\": \"\",\n        \"description\": \"\"\n      }\n    },\n    {\n      \"column\": \"RR\",\n      \"properties\": {\n        \"dtype\": \"category\",\n        \"num_unique_values\": 616,\n        \"samples\": [\n          \"3,3\",\n          \"0,9\",\n          \"125,2\"\n        ],\n        \"semantic_type\": \"\",\n        \"description\": \"\"\n      }\n    },\n    {\n      \"column\": \"SS\",\n      \"properties\": {\n        \"dtype\": \"category\",\n        \"num_unique_values\": 105,\n        \"samples\": [\n          \"4,7\",\n          \"7,4\",\n          \"0,8\"\n        ],\n        \"semantic_type\": \"\",\n        \"description\": \"\"\n      }\n    },\n    {\n      \"column\": \"FF_X\",\n      \"properties\": {\n        \"dtype\": \"category\",\n        \"num_unique_values\": 18,\n        \"samples\": [\n          \"4\",\n          \"6\",\n          \"12\"\n        ],\n        \"semantic_type\": \"\",\n        \"description\": \"\"\n      }\n    },\n    {\n      \"column\": \"DDD_X\",\n      \"properties\": {\n        \"dtype\": \"category\",\n        \"num_unique_values\": 58,\n        \"samples\": [\n          \"280\",\n          \"200\",\n          \"220\"\n        ],\n        \"semantic_type\": \"\",\n        \"description\": \"\"\n      }\n    },\n    {\n      \"column\": \"FF_AVG\",\n      \"properties\": {\n        \"dtype\": \"category\",\n        \"num_unique_values\": 8,\n        \"samples\": [\n          \"1\",\n          \"5\",\n          \"2\"\n        ],\n        \"semantic_type\": \"\",\n        \"description\": \"\"\n      }\n    },\n    {\n      \"column\": \"DDD_CAR\",\n      \"properties\": {\n        \"dtype\": \"category\",\n        \"num_unique_values\": 13,\n        \"samples\": [\n          \"E\",\n          \"C \",\n          \"W \"\n        ],\n        \"semantic_type\": \"\",\n        \"description\": \"\"\n      }\n    }\n  ]\n}"
            }
          },
          "metadata": {},
          "execution_count": 8
        }
      ],
      "source": [
        "# cek data\n",
        "df_bmkg1.head(1)"
      ]
    },
    {
      "cell_type": "markdown",
      "id": "eca259cb",
      "metadata": {
        "id": "eca259cb"
      },
      "source": [
        "##  2. Data Assessing"
      ]
    },
    {
      "cell_type": "markdown",
      "id": "6f63079b",
      "metadata": {
        "id": "6f63079b"
      },
      "source": [
        "### 2.1 Cek struktur kolom"
      ]
    },
    {
      "cell_type": "code",
      "execution_count": null,
      "id": "9a5d69f9",
      "metadata": {
        "id": "9a5d69f9",
        "outputId": "8aaf8222-c45b-4fa4-f48b-1ba5e2c82aeb"
      },
      "outputs": [
        {
          "name": "stdout",
          "output_type": "stream",
          "text": [
            "<class 'pandas.core.frame.DataFrame'>\n",
            "RangeIndex: 9301 entries, 0 to 9300\n",
            "Data columns (total 11 columns):\n",
            " #   Column   Non-Null Count  Dtype \n",
            "---  ------   --------------  ----- \n",
            " 0   TANGGAL  9301 non-null   object\n",
            " 1   TN       9301 non-null   object\n",
            " 2   TX       9301 non-null   object\n",
            " 3   TAVG     9301 non-null   object\n",
            " 4   RH_AVG   9301 non-null   object\n",
            " 5   RR       9301 non-null   object\n",
            " 6   SS       9301 non-null   object\n",
            " 7   FF_X     9301 non-null   object\n",
            " 8   DDD_X    9301 non-null   object\n",
            " 9   FF_AVG   9301 non-null   object\n",
            " 10  DDD_CAR  9301 non-null   object\n",
            "dtypes: object(11)\n",
            "memory usage: 799.4+ KB\n"
          ]
        }
      ],
      "source": [
        "# melihat sturuktur data untuk df_bmkg1\n",
        "df_bmkg1.info()"
      ]
    },
    {
      "cell_type": "code",
      "execution_count": null,
      "id": "e8e2048d",
      "metadata": {
        "id": "e8e2048d",
        "outputId": "81e0f372-11d7-45dd-e930-5a9b7cb1c9f2"
      },
      "outputs": [
        {
          "name": "stdout",
          "output_type": "stream",
          "text": [
            "<class 'pandas.core.frame.DataFrame'>\n",
            "RangeIndex: 9232 entries, 0 to 9231\n",
            "Data columns (total 11 columns):\n",
            " #   Column   Non-Null Count  Dtype \n",
            "---  ------   --------------  ----- \n",
            " 0   TANGGAL  9232 non-null   object\n",
            " 1   TN       9232 non-null   object\n",
            " 2   TX       9232 non-null   object\n",
            " 3   TAVG     9232 non-null   object\n",
            " 4   RH_AVG   9232 non-null   object\n",
            " 5   RR       9232 non-null   object\n",
            " 6   SS       9232 non-null   object\n",
            " 7   FF_X     9232 non-null   object\n",
            " 8   DDD_X    9232 non-null   object\n",
            " 9   FF_AVG   9232 non-null   object\n",
            " 10  DDD_CAR  9232 non-null   object\n",
            "dtypes: object(11)\n",
            "memory usage: 793.5+ KB\n"
          ]
        }
      ],
      "source": [
        "# melihat struktur data untuk df_bmkg2\n",
        "df_bmkg2.info()"
      ]
    },
    {
      "cell_type": "markdown",
      "id": "bd1d9615",
      "metadata": {
        "id": "bd1d9615"
      },
      "source": [
        "### 2.2 Cek distribusi data"
      ]
    },
    {
      "cell_type": "markdown",
      "id": "8b35f62a",
      "metadata": {
        "id": "8b35f62a"
      },
      "source": [
        "#### 2.2.1 Distribusi Untuk Data df_bmkg1"
      ]
    },
    {
      "cell_type": "code",
      "execution_count": null,
      "id": "132d16a0",
      "metadata": {
        "id": "132d16a0",
        "outputId": "37a90a5f-30fb-4116-9d33-411872170a9d"
      },
      "outputs": [
        {
          "data": {
            "text/plain": [
              "DDD_CAR\n",
              "N     2398\n",
              "C     1863\n",
              "W     1712\n",
              "E     1406\n",
              "NW     616\n",
              "NE     511\n",
              "C      296\n",
              "SW     202\n",
              "S      176\n",
              "SE      94\n",
              "W       22\n",
              "-        3\n",
              "E        2\n",
              "Name: count, dtype: int64"
            ]
          },
          "execution_count": 54,
          "metadata": {},
          "output_type": "execute_result"
        }
      ],
      "source": [
        "# melihat data untuk kolom DDD_CAR\n",
        "df_bmkg1['DDD_CAR'].value_counts()"
      ]
    },
    {
      "cell_type": "markdown",
      "id": "8c54ffee",
      "metadata": {
        "id": "8c54ffee"
      },
      "source": [
        "#### 2.2.1 Distribusi Untuk Data df_bmkg2"
      ]
    },
    {
      "cell_type": "code",
      "execution_count": null,
      "id": "91b7536c",
      "metadata": {
        "id": "91b7536c",
        "outputId": "70b2685d-5a51-4029-a2de-5a45cdc04bed"
      },
      "outputs": [
        {
          "data": {
            "text/plain": [
              "DDD_CAR\n",
              "N     1964\n",
              "W     1587\n",
              "NE    1319\n",
              "E      949\n",
              "C      822\n",
              "NW     762\n",
              "SE     660\n",
              "SW     549\n",
              "S      239\n",
              "C      181\n",
              "-       92\n",
              "W       80\n",
              "E       23\n",
              "S        5\n",
              "Name: count, dtype: int64"
            ]
          },
          "execution_count": 55,
          "metadata": {},
          "output_type": "execute_result"
        }
      ],
      "source": [
        "# meelihat nilai unik untuk kolom DDD_CAR\n",
        "df_bmkg2['DDD_CAR'].value_counts()"
      ]
    },
    {
      "cell_type": "markdown",
      "id": "c02dc9ca",
      "metadata": {
        "id": "c02dc9ca"
      },
      "source": [
        "#### 2.2.1 Distribusi Untuk Data df_WIII"
      ]
    },
    {
      "cell_type": "markdown",
      "id": "55a13d95",
      "metadata": {
        "id": "55a13d95"
      },
      "source": [
        "### 2.3 Statistik deskriptif"
      ]
    },
    {
      "cell_type": "code",
      "execution_count": null,
      "id": "3e450365",
      "metadata": {
        "id": "3e450365",
        "outputId": "433eaf54-10b5-4e0f-aa8f-43632ab81c6c"
      },
      "outputs": [
        {
          "data": {
            "text/html": [
              "<div>\n",
              "<style scoped>\n",
              "    .dataframe tbody tr th:only-of-type {\n",
              "        vertical-align: middle;\n",
              "    }\n",
              "\n",
              "    .dataframe tbody tr th {\n",
              "        vertical-align: top;\n",
              "    }\n",
              "\n",
              "    .dataframe thead th {\n",
              "        text-align: right;\n",
              "    }\n",
              "</style>\n",
              "<table border=\"1\" class=\"dataframe\">\n",
              "  <thead>\n",
              "    <tr style=\"text-align: right;\">\n",
              "      <th></th>\n",
              "      <th>TANGGAL</th>\n",
              "      <th>TN</th>\n",
              "      <th>TX</th>\n",
              "      <th>TAVG</th>\n",
              "      <th>RH_AVG</th>\n",
              "      <th>RR</th>\n",
              "      <th>SS</th>\n",
              "      <th>FF_X</th>\n",
              "      <th>DDD_X</th>\n",
              "      <th>FF_AVG</th>\n",
              "      <th>DDD_CAR</th>\n",
              "    </tr>\n",
              "  </thead>\n",
              "  <tbody>\n",
              "    <tr>\n",
              "      <th>count</th>\n",
              "      <td>9301</td>\n",
              "      <td>9301</td>\n",
              "      <td>9301</td>\n",
              "      <td>9301</td>\n",
              "      <td>9301</td>\n",
              "      <td>9301</td>\n",
              "      <td>9301</td>\n",
              "      <td>9301</td>\n",
              "      <td>9301</td>\n",
              "      <td>9301</td>\n",
              "      <td>9301</td>\n",
              "    </tr>\n",
              "    <tr>\n",
              "      <th>unique</th>\n",
              "      <td>9283</td>\n",
              "      <td>34</td>\n",
              "      <td>102</td>\n",
              "      <td>76</td>\n",
              "      <td>47</td>\n",
              "      <td>616</td>\n",
              "      <td>105</td>\n",
              "      <td>18</td>\n",
              "      <td>58</td>\n",
              "      <td>8</td>\n",
              "      <td>13</td>\n",
              "    </tr>\n",
              "    <tr>\n",
              "      <th>top</th>\n",
              "      <td>01-12-2021</td>\n",
              "      <td>25</td>\n",
              "      <td>33</td>\n",
              "      <td>28,6</td>\n",
              "      <td>76</td>\n",
              "      <td>0</td>\n",
              "      <td>8</td>\n",
              "      <td>4</td>\n",
              "      <td>270</td>\n",
              "      <td>1</td>\n",
              "      <td>N</td>\n",
              "    </tr>\n",
              "    <tr>\n",
              "      <th>freq</th>\n",
              "      <td>2</td>\n",
              "      <td>3079</td>\n",
              "      <td>579</td>\n",
              "      <td>437</td>\n",
              "      <td>733</td>\n",
              "      <td>4839</td>\n",
              "      <td>1048</td>\n",
              "      <td>3639</td>\n",
              "      <td>1004</td>\n",
              "      <td>3640</td>\n",
              "      <td>2398</td>\n",
              "    </tr>\n",
              "  </tbody>\n",
              "</table>\n",
              "</div>"
            ],
            "text/plain": [
              "           TANGGAL    TN    TX  TAVG RH_AVG    RR    SS  FF_X DDD_X FF_AVG  \\\n",
              "count         9301  9301  9301  9301   9301  9301  9301  9301  9301   9301   \n",
              "unique        9283    34   102    76     47   616   105    18    58      8   \n",
              "top     01-12-2021    25    33  28,6     76     0     8     4   270      1   \n",
              "freq             2  3079   579   437    733  4839  1048  3639  1004   3640   \n",
              "\n",
              "       DDD_CAR  \n",
              "count     9301  \n",
              "unique      13  \n",
              "top         N   \n",
              "freq      2398  "
            ]
          },
          "execution_count": 67,
          "metadata": {},
          "output_type": "execute_result"
        }
      ],
      "source": [
        "# statsistik deskriptif untuk df_bmkg1\n",
        "df_bmkg1.describe()"
      ]
    },
    {
      "cell_type": "code",
      "execution_count": null,
      "id": "4273eb44",
      "metadata": {
        "id": "4273eb44",
        "outputId": "11b1d7ee-bacd-41dd-e7a9-7eec451e3b1b"
      },
      "outputs": [
        {
          "data": {
            "text/html": [
              "<div>\n",
              "<style scoped>\n",
              "    .dataframe tbody tr th:only-of-type {\n",
              "        vertical-align: middle;\n",
              "    }\n",
              "\n",
              "    .dataframe tbody tr th {\n",
              "        vertical-align: top;\n",
              "    }\n",
              "\n",
              "    .dataframe thead th {\n",
              "        text-align: right;\n",
              "    }\n",
              "</style>\n",
              "<table border=\"1\" class=\"dataframe\">\n",
              "  <thead>\n",
              "    <tr style=\"text-align: right;\">\n",
              "      <th></th>\n",
              "      <th>TANGGAL</th>\n",
              "      <th>TN</th>\n",
              "      <th>TX</th>\n",
              "      <th>TAVG</th>\n",
              "      <th>RH_AVG</th>\n",
              "      <th>RR</th>\n",
              "      <th>SS</th>\n",
              "      <th>FF_X</th>\n",
              "      <th>DDD_X</th>\n",
              "      <th>FF_AVG</th>\n",
              "      <th>DDD_CAR</th>\n",
              "    </tr>\n",
              "  </thead>\n",
              "  <tbody>\n",
              "    <tr>\n",
              "      <th>count</th>\n",
              "      <td>9232</td>\n",
              "      <td>9232</td>\n",
              "      <td>9232</td>\n",
              "      <td>9232</td>\n",
              "      <td>9232</td>\n",
              "      <td>9232</td>\n",
              "      <td>9232</td>\n",
              "      <td>9232</td>\n",
              "      <td>9232</td>\n",
              "      <td>9232</td>\n",
              "      <td>9232</td>\n",
              "    </tr>\n",
              "    <tr>\n",
              "      <th>unique</th>\n",
              "      <td>9213</td>\n",
              "      <td>69</td>\n",
              "      <td>116</td>\n",
              "      <td>78</td>\n",
              "      <td>56</td>\n",
              "      <td>626</td>\n",
              "      <td>114</td>\n",
              "      <td>26</td>\n",
              "      <td>48</td>\n",
              "      <td>15</td>\n",
              "      <td>14</td>\n",
              "    </tr>\n",
              "    <tr>\n",
              "      <th>top</th>\n",
              "      <td>03-10-2020</td>\n",
              "      <td>26</td>\n",
              "      <td>33</td>\n",
              "      <td>28,9</td>\n",
              "      <td>76</td>\n",
              "      <td>0</td>\n",
              "      <td>8</td>\n",
              "      <td>5</td>\n",
              "      <td>360</td>\n",
              "      <td>2</td>\n",
              "      <td>N</td>\n",
              "    </tr>\n",
              "    <tr>\n",
              "      <th>freq</th>\n",
              "      <td>2</td>\n",
              "      <td>2755</td>\n",
              "      <td>470</td>\n",
              "      <td>395</td>\n",
              "      <td>678</td>\n",
              "      <td>4604</td>\n",
              "      <td>721</td>\n",
              "      <td>2104</td>\n",
              "      <td>999</td>\n",
              "      <td>3454</td>\n",
              "      <td>1964</td>\n",
              "    </tr>\n",
              "  </tbody>\n",
              "</table>\n",
              "</div>"
            ],
            "text/plain": [
              "           TANGGAL    TN    TX  TAVG RH_AVG    RR    SS  FF_X DDD_X FF_AVG  \\\n",
              "count         9232  9232  9232  9232   9232  9232  9232  9232  9232   9232   \n",
              "unique        9213    69   116    78     56   626   114    26    48     15   \n",
              "top     03-10-2020    26    33  28,9     76     0     8     5   360      2   \n",
              "freq             2  2755   470   395    678  4604   721  2104   999   3454   \n",
              "\n",
              "       DDD_CAR  \n",
              "count     9232  \n",
              "unique      14  \n",
              "top         N   \n",
              "freq      1964  "
            ]
          },
          "execution_count": 68,
          "metadata": {},
          "output_type": "execute_result"
        }
      ],
      "source": [
        "# statsistik deskriptif untuk df_bmkg2\n",
        "df_bmkg2.describe()"
      ]
    },
    {
      "cell_type": "markdown",
      "metadata": {
        "id": "6K6wxNa8WQic"
      },
      "source": [
        "### 2.5 Null & NaN Summary"
      ],
      "id": "6K6wxNa8WQic"
    },
    {
      "cell_type": "code",
      "execution_count": 9,
      "id": "e11277f6",
      "metadata": {
        "id": "e11277f6",
        "outputId": "4bb4e148-7ddd-4e6c-ef77-57972ada564d",
        "colab": {
          "base_uri": "https://localhost:8080/",
          "height": 429
        }
      },
      "outputs": [
        {
          "output_type": "execute_result",
          "data": {
            "text/plain": [
              "TANGGAL    0\n",
              "TN         0\n",
              "TX         0\n",
              "TAVG       0\n",
              "RH_AVG     0\n",
              "RR         0\n",
              "SS         0\n",
              "FF_X       0\n",
              "DDD_X      0\n",
              "FF_AVG     0\n",
              "DDD_CAR    0\n",
              "dtype: int64"
            ],
            "text/html": [
              "<div>\n",
              "<style scoped>\n",
              "    .dataframe tbody tr th:only-of-type {\n",
              "        vertical-align: middle;\n",
              "    }\n",
              "\n",
              "    .dataframe tbody tr th {\n",
              "        vertical-align: top;\n",
              "    }\n",
              "\n",
              "    .dataframe thead th {\n",
              "        text-align: right;\n",
              "    }\n",
              "</style>\n",
              "<table border=\"1\" class=\"dataframe\">\n",
              "  <thead>\n",
              "    <tr style=\"text-align: right;\">\n",
              "      <th></th>\n",
              "      <th>0</th>\n",
              "    </tr>\n",
              "  </thead>\n",
              "  <tbody>\n",
              "    <tr>\n",
              "      <th>TANGGAL</th>\n",
              "      <td>0</td>\n",
              "    </tr>\n",
              "    <tr>\n",
              "      <th>TN</th>\n",
              "      <td>0</td>\n",
              "    </tr>\n",
              "    <tr>\n",
              "      <th>TX</th>\n",
              "      <td>0</td>\n",
              "    </tr>\n",
              "    <tr>\n",
              "      <th>TAVG</th>\n",
              "      <td>0</td>\n",
              "    </tr>\n",
              "    <tr>\n",
              "      <th>RH_AVG</th>\n",
              "      <td>0</td>\n",
              "    </tr>\n",
              "    <tr>\n",
              "      <th>RR</th>\n",
              "      <td>0</td>\n",
              "    </tr>\n",
              "    <tr>\n",
              "      <th>SS</th>\n",
              "      <td>0</td>\n",
              "    </tr>\n",
              "    <tr>\n",
              "      <th>FF_X</th>\n",
              "      <td>0</td>\n",
              "    </tr>\n",
              "    <tr>\n",
              "      <th>DDD_X</th>\n",
              "      <td>0</td>\n",
              "    </tr>\n",
              "    <tr>\n",
              "      <th>FF_AVG</th>\n",
              "      <td>0</td>\n",
              "    </tr>\n",
              "    <tr>\n",
              "      <th>DDD_CAR</th>\n",
              "      <td>0</td>\n",
              "    </tr>\n",
              "  </tbody>\n",
              "</table>\n",
              "</div><br><label><b>dtype:</b> int64</label>"
            ]
          },
          "metadata": {},
          "execution_count": 9
        }
      ],
      "source": [
        "# ,eihat jumlah nilai yang hilang (NaN) di setiap kolom\n",
        "df_bmkg1.isnull().sum()"
      ]
    },
    {
      "cell_type": "code",
      "execution_count": 10,
      "id": "1dbc09ce",
      "metadata": {
        "id": "1dbc09ce",
        "outputId": "58fe5b5c-8d13-4599-fe08-bf6aa636aea2",
        "colab": {
          "base_uri": "https://localhost:8080/",
          "height": 429
        }
      },
      "outputs": [
        {
          "output_type": "execute_result",
          "data": {
            "text/plain": [
              "TANGGAL    0\n",
              "TN         0\n",
              "TX         0\n",
              "TAVG       0\n",
              "RH_AVG     0\n",
              "RR         0\n",
              "SS         0\n",
              "FF_X       0\n",
              "DDD_X      0\n",
              "FF_AVG     0\n",
              "DDD_CAR    0\n",
              "dtype: int64"
            ],
            "text/html": [
              "<div>\n",
              "<style scoped>\n",
              "    .dataframe tbody tr th:only-of-type {\n",
              "        vertical-align: middle;\n",
              "    }\n",
              "\n",
              "    .dataframe tbody tr th {\n",
              "        vertical-align: top;\n",
              "    }\n",
              "\n",
              "    .dataframe thead th {\n",
              "        text-align: right;\n",
              "    }\n",
              "</style>\n",
              "<table border=\"1\" class=\"dataframe\">\n",
              "  <thead>\n",
              "    <tr style=\"text-align: right;\">\n",
              "      <th></th>\n",
              "      <th>0</th>\n",
              "    </tr>\n",
              "  </thead>\n",
              "  <tbody>\n",
              "    <tr>\n",
              "      <th>TANGGAL</th>\n",
              "      <td>0</td>\n",
              "    </tr>\n",
              "    <tr>\n",
              "      <th>TN</th>\n",
              "      <td>0</td>\n",
              "    </tr>\n",
              "    <tr>\n",
              "      <th>TX</th>\n",
              "      <td>0</td>\n",
              "    </tr>\n",
              "    <tr>\n",
              "      <th>TAVG</th>\n",
              "      <td>0</td>\n",
              "    </tr>\n",
              "    <tr>\n",
              "      <th>RH_AVG</th>\n",
              "      <td>0</td>\n",
              "    </tr>\n",
              "    <tr>\n",
              "      <th>RR</th>\n",
              "      <td>0</td>\n",
              "    </tr>\n",
              "    <tr>\n",
              "      <th>SS</th>\n",
              "      <td>0</td>\n",
              "    </tr>\n",
              "    <tr>\n",
              "      <th>FF_X</th>\n",
              "      <td>0</td>\n",
              "    </tr>\n",
              "    <tr>\n",
              "      <th>DDD_X</th>\n",
              "      <td>0</td>\n",
              "    </tr>\n",
              "    <tr>\n",
              "      <th>FF_AVG</th>\n",
              "      <td>0</td>\n",
              "    </tr>\n",
              "    <tr>\n",
              "      <th>DDD_CAR</th>\n",
              "      <td>0</td>\n",
              "    </tr>\n",
              "  </tbody>\n",
              "</table>\n",
              "</div><br><label><b>dtype:</b> int64</label>"
            ]
          },
          "metadata": {},
          "execution_count": 10
        }
      ],
      "source": [
        "# melihat jumlah nilai yang hilang (NaN) di setiap kolom\n",
        "df_bmkg2.isnull().sum()"
      ]
    },
    {
      "cell_type": "markdown",
      "metadata": {
        "id": "aZdNdB2RWQid"
      },
      "source": [
        "### 2.7 Duplicated row check"
      ],
      "id": "aZdNdB2RWQid"
    },
    {
      "cell_type": "code",
      "execution_count": null,
      "id": "89c103ae",
      "metadata": {
        "id": "89c103ae",
        "outputId": "30cd0482-d8e7-485b-a881-e2d8f4210fac"
      },
      "outputs": [
        {
          "data": {
            "text/plain": [
              "np.int64(18)"
            ]
          },
          "execution_count": 81,
          "metadata": {},
          "output_type": "execute_result"
        }
      ],
      "source": [
        "df_bmkg1.duplicated().sum()"
      ]
    },
    {
      "cell_type": "code",
      "execution_count": null,
      "id": "dfac02fa",
      "metadata": {
        "id": "dfac02fa",
        "outputId": "a619be3a-cd7a-454c-f11f-538626da670b"
      },
      "outputs": [
        {
          "data": {
            "text/plain": [
              "np.int64(19)"
            ]
          },
          "execution_count": 82,
          "metadata": {},
          "output_type": "execute_result"
        }
      ],
      "source": [
        "df_bmkg2.duplicated().sum()"
      ]
    },
    {
      "cell_type": "markdown",
      "id": "c38401b8",
      "metadata": {
        "id": "c38401b8"
      },
      "source": [
        "### 2.8 Corrupt/invalid rows"
      ]
    },
    {
      "cell_type": "code",
      "execution_count": 11,
      "id": "00889406",
      "metadata": {
        "id": "00889406",
        "outputId": "8908e33c-b274-40f1-e133-eb4a1fae71f3",
        "colab": {
          "base_uri": "https://localhost:8080/"
        }
      },
      "outputs": [
        {
          "output_type": "stream",
          "name": "stdout",
          "text": [
            "Jumlah data tidak valid di kolom 'TN': 1431\n",
            "Jumlah data tidak valid di kolom 'TX': 7247\n",
            "Jumlah data tidak valid di kolom 'TAVG': 8415\n",
            "Jumlah data tidak valid di kolom 'RH_AVG': 17\n",
            "Jumlah data tidak valid di kolom 'RR': 3251\n",
            "Jumlah data tidak valid di kolom 'SS': 4999\n",
            "Jumlah data tidak valid di kolom 'FF_X': 1\n",
            "Jumlah data tidak valid di kolom 'DDD_X': 2\n",
            "Jumlah data tidak valid di kolom 'FF_AVG': 2\n"
          ]
        }
      ],
      "source": [
        "# Jumlah data tidak valid (bukan angka) per kolom numerik\n",
        "kolom_numerik = ['TN', 'TX', 'TAVG', 'RH_AVG', 'RR', 'SS', 'FF_X', 'DDD_X', 'FF_AVG']  # sesuaikan dengan kolom dataset Anda\n",
        "\n",
        "for kolom in kolom_numerik:\n",
        "    if kolom in df_bmkg1.columns:\n",
        "        # Hitung jumlah data yang tidak bisa dikonversi ke angka (dan bukan NaN)\n",
        "        mask = pd.to_numeric(df_bmkg1[kolom], errors='coerce').isna() & df_bmkg1[kolom].notna()\n",
        "        jumlah_rusak = mask.sum()\n",
        "        print(f\"Jumlah data tidak valid di kolom '{kolom}': {jumlah_rusak}\")"
      ]
    },
    {
      "cell_type": "code",
      "execution_count": null,
      "id": "12ab9923",
      "metadata": {
        "id": "12ab9923",
        "outputId": "868c7c77-34b0-445f-9c04-44e90ec6944a"
      },
      "outputs": [
        {
          "name": "stdout",
          "output_type": "stream",
          "text": [
            "Jumlah data tidak valid di kolom 'TN': 1973\n",
            "Jumlah data tidak valid di kolom 'TX': 7690\n",
            "Jumlah data tidak valid di kolom 'TAVG': 8279\n",
            "Jumlah data tidak valid di kolom 'RH_AVG': 112\n",
            "Jumlah data tidak valid di kolom 'RR': 3729\n",
            "Jumlah data tidak valid di kolom 'SS': 7061\n",
            "Jumlah data tidak valid di kolom 'FF_X': 15\n",
            "Jumlah data tidak valid di kolom 'DDD_X': 12\n",
            "Jumlah data tidak valid di kolom 'FF_AVG': 9\n"
          ]
        }
      ],
      "source": [
        "# Jumlah data tidak valid (bukan angka) per kolom numerik\n",
        "kolom_numerik = ['TN', 'TX', 'TAVG', 'RH_AVG', 'RR', 'SS', 'FF_X', 'DDD_X', 'FF_AVG']  # sesuaikan dengan kolom dataset Anda\n",
        "\n",
        "for kolom in kolom_numerik:\n",
        "    if kolom in df_bmkg2.columns:\n",
        "        # Hitung jumlah data yang tidak bisa dikonversi ke angka (dan bukan NaN)\n",
        "        mask = pd.to_numeric(df_bmkg2[kolom], errors='coerce').isna() & df_bmkg2[kolom].notna()\n",
        "        jumlah_rusak = mask.sum()\n",
        "        print(f\"Jumlah data tidak valid di kolom '{kolom}': {jumlah_rusak}\")"
      ]
    },
    {
      "cell_type": "markdown",
      "id": "23bfe0e6",
      "metadata": {
        "id": "23bfe0e6"
      },
      "source": [
        "### 2.9 Visualisasi awal distribusi"
      ]
    },
    {
      "cell_type": "code",
      "execution_count": 12,
      "id": "5f709e96",
      "metadata": {
        "id": "5f709e96",
        "outputId": "ecad852f-7dbe-49d7-e0fb-569bd773982e",
        "colab": {
          "base_uri": "https://localhost:8080/",
          "height": 629
        }
      },
      "outputs": [
        {
          "output_type": "display_data",
          "data": {
            "text/plain": [
              "<Figure size 1500x800 with 6 Axes>"
            ],
            "image/png": "[encoded data removed]"
          },
          "metadata": {}
        }
      ],
      "source": [
        "kolom_numerik_bmkg = [\n",
        "    'TN', 'TX', 'TAVG', 'RH_AVG', 'RR', 'SS', 'FF_X', 'DDD_X', 'FF_AVG'\n",
        "]\n",
        "\n",
        "# Pilih kolom yang ada di df_bmkg1\n",
        "sample_cols_bmkg = [col for col in kolom_numerik_bmkg if col in df_bmkg1.columns][:6]\n",
        "\n",
        "# Konversi ke float (jika belum)\n",
        "df_bmkg1_plot = df_bmkg1[sample_cols_bmkg].apply(pd.to_numeric, errors='coerce')\n",
        "\n",
        "df_bmkg1_plot.hist(bins=30, figsize=(15, 8), layout=(2, 3))\n",
        "plt.suptitle('Distribusi Data Sebelum Pembersihan (BMKG)', fontsize=16)\n",
        "plt.tight_layout()\n",
        "plt.show()"
      ]
    },
    {
      "cell_type": "code",
      "execution_count": null,
      "id": "26ed5a89",
      "metadata": {
        "id": "26ed5a89",
        "outputId": "6227e786-6eec-4c06-d77e-a86876e72edd"
      },
      "outputs": [
        {
          "data": {
            "image/png": "[encoded data removed]",
            "text/plain": [
              "<Figure size 1500x800 with 6 Axes>"
            ]
          },
          "metadata": {},
          "output_type": "display_data"
        }
      ],
      "source": [
        "kolom_numerik_bmkg = [\n",
        "    'TN', 'TX', 'TAVG', 'RH_AVG', 'RR', 'SS', 'FF_X', 'DDD_X', 'FF_AVG'\n",
        "]\n",
        "\n",
        "# Pilih kolom yang ada di df_bmkg2\n",
        "sample_cols_bmkg = [col for col in kolom_numerik_bmkg if col in df_bmkg2.columns][:6]\n",
        "\n",
        "# Konversi ke float (jika belum)\n",
        "df_bmkg2_plot = df_bmkg2[sample_cols_bmkg].apply(pd.to_numeric, errors='coerce')\n",
        "\n",
        "df_bmkg2_plot.hist(bins=30, figsize=(15, 8), layout=(2, 3))\n",
        "plt.suptitle('Distribusi Data Sebelum Pembersihan (BMKG)', fontsize=16)\n",
        "plt.tight_layout()\n",
        "plt.show()"
      ]
    },
    {
      "cell_type": "markdown",
      "id": "67eeee72",
      "metadata": {
        "id": "67eeee72"
      },
      "source": [
        "### 2.10 Dokumentasi masalah"
      ]
    },
    {
      "cell_type": "markdown",
      "id": "1ce4971b",
      "metadata": {
        "id": "1ce4971b"
      },
      "source": [
        "#### 📋 DOKUMENTASI TEMUAN DATA QUALITY ASSESSMENT\n",
        "\n",
        "#### 🗂️ 1. OVERVIEW DATASET\n",
        "- **df_bmkg1**: 9,301 baris × 11 kolom (data BMKG periode 1)\n",
        "- **df_bmkg2**: 9,232 baris × 11 kolom (data BMKG periode 2)  \n",
        "- **df_WIII**: 374,329 baris × 33 kolom (data cuaca internasional)\n",
        "\n",
        "#### 🔍 2. MASALAH STRUKTUR DATA\n",
        "\n",
        "###### 2.1 Tipe Data Tidak Sesuai\n",
        "**BMKG 1 & 2:**\n",
        "- ❌ Semua kolom bertipe object padahal seharusnya numerik\n",
        "- Kolom yang perlu dikonversi: `TN`, `TX`, `TAVG`, `RH_AVG`, `RR`, `SS`, `FF_X`, `DDD_X`, `FF_AVG`\n",
        "- `TANGGAL` perlu dikonversi ke datetime\n",
        "\n",
        "**WIII:**\n",
        "- ❌ 30 dari 33 kolom bertipe object padahal seharusnya numerik\n",
        "- Hanya `lon`, `lat`, `elevation` yang sudah bertipe float64\n",
        "- Kolom numerik yang perlu dikonversi: 25+ kolom cuaca\n",
        "\n",
        "###### 2.2 Decimal Separator Issue\n",
        "- BMKG menggunakan koma (`,`) sebagai decimal separator\n",
        "- Contoh: `28,6` instead of `28.6`\n",
        "\n",
        "#### 📊 3. MISSING VALUES & INVALID DATA\n",
        "\n",
        "###### 3.1 Missing Values (Simbol 'M')\n",
        "**WIII Dataset:**\n",
        "- ⚠️ 374,329 baris mengandung nilai 'M' (100% data terpengaruh)\n",
        "- Kolom paling bermasalah:\n",
        "    - `ice_accretion_*`, `peak_wind_*`, `snowdepth`: 100% missing\n",
        "    - `mslp`: 91.9% missing (344,063/374,329)\n",
        "    - `gust`: 99.0% missing (370,528/374,329)\n",
        "\n",
        "###### 3.2 Data Tidak Valid (Non-Numeric)\n",
        "**BMKG 1:**\n",
        "- `TAVG`: 8,415 nilai invalid\n",
        "- `TX`: 7,247 nilai invalid\n",
        "- `SS`: 4,999 nilai invalid\n",
        "- `RR`: 3,251 nilai invalid\n",
        "\n",
        "**BMKG 2:**\n",
        "- `TAVG`: 8,279 nilai invalid\n",
        "- `TX`: 7,690 nilai invalid\n",
        "- `SS`: 7,061 nilai invalid\n",
        "- `RR`: 3,729 nilai invalid\n",
        "\n",
        "**WIII:**\n",
        "- Hampir semua kolom memiliki data invalid dalam jumlah besar\n",
        "- `mslp`: 344,063 invalid values\n",
        "- `p01i`: 125,200 invalid values\n",
        "\n",
        "#### 🔄 4. DATA DUPLICATES\n",
        "- **df_bmkg1**: 18 baris duplikat\n",
        "- **df_bmkg2**: 19 baris duplikat\n",
        "- **df_WIII**: 32 baris duplikat\n",
        "\n",
        "#### 📈 5. DISTRIBUSI DATA\n",
        "\n",
        "###### 5.1 Distribusi Kategorik (DDD_CAR)\n",
        "**BMKG 1 - Arah Angin:**\n",
        "- Dominan: N (2,398), C (1,863), W (1,712)\n",
        "- Ada duplikasi nilai: C, W, E, S muncul 2x\n",
        "\n",
        "**BMKG 2 - Arah Angin:**\n",
        "- Dominan: N (1,964), W (1,587), NE (1,319)\n",
        "- Pola distribusi berbeda dari BMKG 1\n",
        "\n",
        "###### 5.2 Distribusi Numerik\n",
        "**WIII (lon, lat, elevation):**\n",
        "- Data sangat homogen (std ≈ 0)\n",
        "- Semua data dari satu lokasi: lon=106.66°, lat=-6.13°, elevation=8m\n",
        "- Menunjukkan data dari satu stasiun cuaca saja\n",
        "\n",
        "#### ⚠️ 6. MASALAH KRITIS YANG DITEMUKAN\n",
        "- ❌ **Tipe Data Salah**: Hampir semua kolom numerik dibaca sebagai string\n",
        "- ❌ **Format Decimal**: Koma vs titik decimal separator\n",
        "- ❌ **Missing Values Masif**: 99% data WIII mengandung 'M'\n",
        "- ❌ **Data Invalid Tinggi**: Ribuan nilai non-numeric pada kolom numerik\n",
        "- ❌ **Kolom Tidak Berguna**: Beberapa kolom WIII 100% missing\n",
        "- ❌ **Data Lokasi Homogen**: WIII hanya dari 1 stasiun\n",
        "\n",
        "#### 🔧 7. REKOMENDASI DATA CLEANING\n",
        "\n",
        "###### Priority 1 - Critical:\n",
        "1. Konversi semua kolom numerik ke tipe float\n",
        "2. Replace ',' dengan '.' untuk decimal\n",
        "3. Convert 'M' menjadi NaN\n",
        "4. Remove/handle kolom dengan >90% missing values\n",
        "\n",
        "###### Priority 2 - Important:\n",
        "1. Handle duplicate records\n",
        "2. Standardisasi format tanggal\n",
        "3. Validasi range nilai (outlier detection)\n",
        "4. Merge datasets jika memungkinkan\n",
        "\n",
        "###### Priority 3 - Optional:\n",
        "1. Feature engineering untuk kolom arah angin\n",
        "2. Interpolasi missing values untuk time series\n",
        "3. Data enrichment dengan lokasi geografis\n",
        "\n",
        "---\n",
        "**📅 Assessment Date**: June 11, 2025  \n",
        "**🔍 Total Issues Found**: 25+ critical data quality issues  \n",
        "**⚡ Estimated Cleaning Effort**: High (Major restructuring needed)"
      ]
    },
    {
      "cell_type": "markdown",
      "id": "aaf7f669",
      "metadata": {
        "id": "aaf7f669"
      },
      "source": []
    },
    {
      "cell_type": "markdown",
      "id": "57b11730",
      "metadata": {
        "id": "57b11730"
      },
      "source": [
        "## Data Cleaning"
      ]
    },
    {
      "cell_type": "markdown",
      "id": "b376de1e",
      "metadata": {
        "id": "b376de1e"
      },
      "source": [
        "### 2.1 Memperbaiki stuktur data"
      ]
    },
    {
      "cell_type": "code",
      "execution_count": 13,
      "id": "efadc9bb",
      "metadata": {
        "id": "efadc9bb"
      },
      "outputs": [],
      "source": [
        "# 1. Membuat copy data untuk cleaning\n",
        "df_bmkg1_clean = df_bmkg1.copy()\n",
        "df_bmkg2_clean = df_bmkg2.copy()"
      ]
    },
    {
      "cell_type": "code",
      "source": [
        "# 2. Merubah tipe data Tanggal menjadi datetime\n",
        "df_bmkg1_clean['TANGGAL'] = pd.to_datetime(df_bmkg1_clean['TANGGAL'], format='%d-%m-%Y', errors='coerce')\n",
        "df_bmkg2_clean['TANGGAL'] = pd.to_datetime(df_bmkg2_clean['TANGGAL'], format='%d-%m-%Y', errors='coerce')"
      ],
      "metadata": {
        "id": "7jn7VxQZXQiW"
      },
      "id": "7jn7VxQZXQiW",
      "execution_count": 14,
      "outputs": []
    },
    {
      "cell_type": "code",
      "source": [
        "# 3. Merubah tipe data object menjadi numerik kecuali kolom TANGGAL dan DDD_CAR\n",
        "# Dengan menangani decimal separator koma terlebih dahulu\n",
        "for col in df_bmkg1_clean.columns:\n",
        "    if col not in ['TANGGAL', 'DDD_CAR']:\n",
        "        # Ganti koma dengan titik untuk decimal separator\n",
        "        df_bmkg1_clean[col] = df_bmkg1_clean[col].astype(str).str.replace(',', '.')\n",
        "        # Konversi ke numerik\n",
        "        df_bmkg1_clean[col] = pd.to_numeric(df_bmkg1_clean[col], errors='coerce')\n",
        "\n",
        "for col in df_bmkg2_clean.columns:\n",
        "    if col not in ['TANGGAL', 'DDD_CAR']:\n",
        "        # Ganti koma dengan titik untuk decimal separator\n",
        "        df_bmkg2_clean[col] = df_bmkg2_clean[col].astype(str).str.replace(',', '.')\n",
        "        # Konversi ke numerik\n",
        "        df_bmkg2_clean[col] = pd.to_numeric(df_bmkg2_clean[col], errors='coerce')"
      ],
      "metadata": {
        "id": "1_ZQMOGxXTVN"
      },
      "id": "1_ZQMOGxXTVN",
      "execution_count": 15,
      "outputs": []
    },
    {
      "cell_type": "code",
      "source": [
        "# 4. Menangani nilai tidak valid seperti 8888.0 dan 9999.0\n",
        "nilai_tidak_valid = [8888.0, 9999.0]\n",
        "for col in df_bmkg1_clean.columns:\n",
        "    if col not in ['TANGGAL', 'DDD_CAR']:\n",
        "        df_bmkg1_clean[col] = df_bmkg1_clean[col].replace(nilai_tidak_valid, np.nan)\n",
        "for col in df_bmkg2_clean.columns:\n",
        "    if col not in ['TANGGAL', 'DDD_CAR']:\n",
        "        df_bmkg2_clean[col] = df_bmkg2_clean[col].replace(nilai_tidak_valid, np.nan)\n"
      ],
      "metadata": {
        "id": "9eLIeeuxXYsr"
      },
      "id": "9eLIeeuxXYsr",
      "execution_count": 16,
      "outputs": []
    },
    {
      "cell_type": "code",
      "source": [
        "# 5. Mengisi nilai NaN dengan metode IterativeImputer\n",
        "\n",
        "# Pilih kolom numerik untuk imputation\n",
        "kolom_numerik = ['TN', 'TX', 'TAVG', 'RH_AVG', 'RR', 'SS', 'FF_X', 'DDD_X', 'FF_AVG']\n",
        "\n",
        "# Untuk df_bmkg1_clean\n",
        "df_bmkg1_numerik = df_bmkg1_clean[kolom_numerik].copy()\n",
        "\n",
        "print(\"--- Data BMKG1 Sebelum Imputation ---\")\n",
        "print(f\"Missing values: {df_bmkg1_numerik.isnull().sum().sum()}\")\n",
        "print(df_bmkg1_numerik.head())\n",
        "\n",
        "# IterativeImputer untuk BMKG1\n",
        "imputer = IterativeImputer(\n",
        "    estimator=RandomForestRegressor(),\n",
        "    max_iter=10,\n",
        "    random_state=42,\n",
        "    verbose=0\n",
        ")\n",
        "\n",
        "df_bmkg1_imputed_array = imputer.fit_transform(df_bmkg1_numerik)\n",
        "df_bmkg1_imputed = pd.DataFrame(\n",
        "    df_bmkg1_imputed_array,\n",
        "    columns=df_bmkg1_numerik.columns,\n",
        "    index=df_bmkg1_numerik.index\n",
        ")\n",
        "\n",
        "# Bulatkan hasil ke 1 angka di belakang koma\n",
        "df_bmkg1_final = df_bmkg1_imputed.round(1)\n",
        "\n",
        "print(\"\\n--- Data BMKG1 Setelah Imputation ---\")\n",
        "print(f\"Missing values: {df_bmkg1_final.isnull().sum().sum()}\")\n",
        "print(df_bmkg1_final.head())\n",
        "\n",
        "# Update dataset dengan kolom yang sudah di-impute\n",
        "for col in kolom_numerik:\n",
        "    df_bmkg1_clean[col] = df_bmkg1_final[col]"
      ],
      "metadata": {
        "id": "UI_xByHxXaA-",
        "outputId": "a1eb3393-ceb7-45a7-e716-0b7521d0fd61",
        "colab": {
          "base_uri": "https://localhost:8080/"
        }
      },
      "id": "UI_xByHxXaA-",
      "execution_count": 17,
      "outputs": [
        {
          "output_type": "stream",
          "name": "stdout",
          "text": [
            "--- Data BMKG1 Sebelum Imputation ---\n",
            "Missing values: 1369\n",
            "     TN    TX  TAVG  RH_AVG    RR   SS  FF_X  DDD_X  FF_AVG\n",
            "0  24.0  29.4  26.8    83.0   9.1  2.0   4.0  280.0     2.0\n",
            "1  25.0  29.8  27.0    81.0   NaN  2.0   4.0  290.0     2.0\n",
            "2  25.0  30.8  26.7    83.0   NaN  0.7   4.0  260.0     1.0\n",
            "3  24.0  31.0  27.0    82.0  50.2  1.0   6.0  290.0     2.0\n",
            "4  25.0  31.8  27.0    82.0   1.6  3.5   4.0  240.0     2.0\n",
            "\n",
            "--- Data BMKG1 Setelah Imputation ---\n",
            "Missing values: 0\n",
            "     TN    TX  TAVG  RH_AVG    RR   SS  FF_X  DDD_X  FF_AVG\n",
            "0  24.0  29.4  26.8    83.0   9.1  2.0   4.0  280.0     2.0\n",
            "1  25.0  29.8  27.0    81.0  11.2  2.0   4.0  290.0     2.0\n",
            "2  25.0  30.8  26.7    83.0  13.1  0.7   4.0  260.0     1.0\n",
            "3  24.0  31.0  27.0    82.0  50.2  1.0   6.0  290.0     2.0\n",
            "4  25.0  31.8  27.0    82.0   1.6  3.5   4.0  240.0     2.0\n"
          ]
        }
      ]
    },
    {
      "cell_type": "code",
      "source": [
        "# 6. Mengisi nilai NaN dengan metode IterativeImputer untuk BMKG2\n",
        "\n",
        "# Untuk df_bmkg2_clean\n",
        "df_bmkg2_numerik = df_bmkg2_clean[kolom_numerik].copy()\n",
        "\n",
        "print(\"--- Data BMKG2 Sebelum Imputation ---\")\n",
        "print(f\"Missing values: {df_bmkg2_numerik.isnull().sum().sum()}\")\n",
        "print(df_bmkg2_numerik.head())\n",
        "\n",
        "# IterativeImputer untuk BMKG2 (menggunakan imputer yang sama)\n",
        "df_bmkg2_imputed_array = imputer.fit_transform(df_bmkg2_numerik)\n",
        "df_bmkg2_imputed = pd.DataFrame(\n",
        "    df_bmkg2_imputed_array,\n",
        "    columns=df_bmkg2_numerik.columns,\n",
        "    index=df_bmkg2_numerik.index\n",
        ")\n",
        "\n",
        "# Bulatkan hasil ke 1 angka di belakang koma\n",
        "df_bmkg2_final = df_bmkg2_imputed.round(1)\n",
        "\n",
        "print(\"\\n--- Data BMKG2 Setelah Imputation ---\")\n",
        "print(f\"Missing values: {df_bmkg2_final.isnull().sum().sum()}\")\n",
        "print(df_bmkg2_final.head())\n",
        "\n",
        "# Update dataset dengan kolom yang sudah di-impute\n",
        "for col in kolom_numerik:\n",
        "    df_bmkg2_clean[col] = df_bmkg2_final[col]"
      ],
      "metadata": {
        "id": "Xgv_Kyb1Xx3y",
        "outputId": "deeb13b5-a153-4ffc-ed5d-727feb07ec71",
        "colab": {
          "base_uri": "https://localhost:8080/"
        }
      },
      "id": "Xgv_Kyb1Xx3y",
      "execution_count": 19,
      "outputs": [
        {
          "output_type": "stream",
          "name": "stdout",
          "text": [
            "--- Data BMKG2 Sebelum Imputation ---\n",
            "Missing values: 2721\n",
            "     TN    TX  TAVG  RH_AVG    RR   SS  FF_X  DDD_X  FF_AVG\n",
            "0  25.0  31.2  27.8    76.0   0.0  0.2   8.0   45.0     4.0\n",
            "1  25.0  31.2  27.3    80.0   1.7  0.7  12.0  360.0     6.0\n",
            "2  25.0  31.4  27.6    77.0   2.5  1.6  11.0  360.0     5.0\n",
            "3  25.0  31.5  27.2    81.0   0.0  2.5  12.0   45.0     6.0\n",
            "4  25.0  31.3  26.9    82.0  12.5  0.0  14.0  225.0     6.0\n",
            "\n",
            "--- Data BMKG2 Setelah Imputation ---\n",
            "Missing values: 0\n",
            "     TN    TX  TAVG  RH_AVG    RR   SS  FF_X  DDD_X  FF_AVG\n",
            "0  25.0  31.2  27.8    76.0   0.0  0.2   8.0   45.0     4.0\n",
            "1  25.0  31.2  27.3    80.0   1.7  0.7  12.0  360.0     6.0\n",
            "2  25.0  31.4  27.6    77.0   2.5  1.6  11.0  360.0     5.0\n",
            "3  25.0  31.5  27.2    81.0   0.0  2.5  12.0   45.0     6.0\n",
            "4  25.0  31.3  26.9    82.0  12.5  0.0  14.0  225.0     6.0\n"
          ]
        }
      ]
    },
    {
      "cell_type": "code",
      "source": [
        "df_gabungan = pd.concat([df_bmkg1_clean, df_bmkg1[['TANGGAL', 'DDD_CAR']]], axis=1)"
      ],
      "metadata": {
        "id": "Uq-IowOPf9NH"
      },
      "id": "Uq-IowOPf9NH",
      "execution_count": 26,
      "outputs": []
    },
    {
      "cell_type": "code",
      "source": [
        "df_gabungan2 = pd.concat([df_bmkg2_clean, df_bmkg1[['TANGGAL', 'DDD_CAR']]], axis=1)"
      ],
      "metadata": {
        "id": "TEcnjsX7icWu"
      },
      "id": "TEcnjsX7icWu",
      "execution_count": 29,
      "outputs": []
    },
    {
      "cell_type": "code",
      "source": [
        "df_gabungan.head(5)"
      ],
      "metadata": {
        "id": "Ib0iiBdyg8-F",
        "outputId": "cef3204f-f188-432b-cc92-bc80e111a560",
        "colab": {
          "base_uri": "https://localhost:8080/",
          "height": 206
        }
      },
      "id": "Ib0iiBdyg8-F",
      "execution_count": 28,
      "outputs": [
        {
          "output_type": "execute_result",
          "data": {
            "text/plain": [
              "     TN    TX  TAVG  RH_AVG    RR   SS  FF_X  DDD_X  FF_AVG     TANGGAL  \\\n",
              "0  24.0  29.4  26.8    83.0   9.1  2.0   4.0  280.0     2.0  01-01-2000   \n",
              "1  25.0  29.8  27.0    81.0  11.2  2.0   4.0  290.0     2.0  02-01-2000   \n",
              "2  25.0  30.8  26.7    83.0  13.1  0.7   4.0  260.0     1.0  03-01-2000   \n",
              "3  24.0  31.0  27.0    82.0  50.2  1.0   6.0  290.0     2.0  04-01-2000   \n",
              "4  25.0  31.8  27.0    82.0   1.6  3.5   4.0  240.0     2.0  05-01-2000   \n",
              "\n",
              "  DDD_CAR  \n",
              "0      W   \n",
              "1      W   \n",
              "2      W   \n",
              "3      W   \n",
              "4      SW  "
            ],
            "text/html": [
              "\n",
              "  <div id=\"df-640ac1f4-8a53-45ce-b142-61e53dd91535\" class=\"colab-df-container\">\n",
              "    <div>\n",
              "<style scoped>\n",
              "    .dataframe tbody tr th:only-of-type {\n",
              "        vertical-align: middle;\n",
              "    }\n",
              "\n",
              "    .dataframe tbody tr th {\n",
              "        vertical-align: top;\n",
              "    }\n",
              "\n",
              "    .dataframe thead th {\n",
              "        text-align: right;\n",
              "    }\n",
              "</style>\n",
              "<table border=\"1\" class=\"dataframe\">\n",
              "  <thead>\n",
              "    <tr style=\"text-align: right;\">\n",
              "      <th></th>\n",
              "      <th>TN</th>\n",
              "      <th>TX</th>\n",
              "      <th>TAVG</th>\n",
              "      <th>RH_AVG</th>\n",
              "      <th>RR</th>\n",
              "      <th>SS</th>\n",
              "      <th>FF_X</th>\n",
              "      <th>DDD_X</th>\n",
              "      <th>FF_AVG</th>\n",
              "      <th>TANGGAL</th>\n",
              "      <th>DDD_CAR</th>\n",
              "    </tr>\n",
              "  </thead>\n",
              "  <tbody>\n",
              "    <tr>\n",
              "      <th>0</th>\n",
              "      <td>24.0</td>\n",
              "      <td>29.4</td>\n",
              "      <td>26.8</td>\n",
              "      <td>83.0</td>\n",
              "      <td>9.1</td>\n",
              "      <td>2.0</td>\n",
              "      <td>4.0</td>\n",
              "      <td>280.0</td>\n",
              "      <td>2.0</td>\n",
              "      <td>01-01-2000</td>\n",
              "      <td>W</td>\n",
              "    </tr>\n",
              "    <tr>\n",
              "      <th>1</th>\n",
              "      <td>25.0</td>\n",
              "      <td>29.8</td>\n",
              "      <td>27.0</td>\n",
              "      <td>81.0</td>\n",
              "      <td>11.2</td>\n",
              "      <td>2.0</td>\n",
              "      <td>4.0</td>\n",
              "      <td>290.0</td>\n",
              "      <td>2.0</td>\n",
              "      <td>02-01-2000</td>\n",
              "      <td>W</td>\n",
              "    </tr>\n",
              "    <tr>\n",
              "      <th>2</th>\n",
              "      <td>25.0</td>\n",
              "      <td>30.8</td>\n",
              "      <td>26.7</td>\n",
              "      <td>83.0</td>\n",
              "      <td>13.1</td>\n",
              "      <td>0.7</td>\n",
              "      <td>4.0</td>\n",
              "      <td>260.0</td>\n",
              "      <td>1.0</td>\n",
              "      <td>03-01-2000</td>\n",
              "      <td>W</td>\n",
              "    </tr>\n",
              "    <tr>\n",
              "      <th>3</th>\n",
              "      <td>24.0</td>\n",
              "      <td>31.0</td>\n",
              "      <td>27.0</td>\n",
              "      <td>82.0</td>\n",
              "      <td>50.2</td>\n",
              "      <td>1.0</td>\n",
              "      <td>6.0</td>\n",
              "      <td>290.0</td>\n",
              "      <td>2.0</td>\n",
              "      <td>04-01-2000</td>\n",
              "      <td>W</td>\n",
              "    </tr>\n",
              "    <tr>\n",
              "      <th>4</th>\n",
              "      <td>25.0</td>\n",
              "      <td>31.8</td>\n",
              "      <td>27.0</td>\n",
              "      <td>82.0</td>\n",
              "      <td>1.6</td>\n",
              "      <td>3.5</td>\n",
              "      <td>4.0</td>\n",
              "      <td>240.0</td>\n",
              "      <td>2.0</td>\n",
              "      <td>05-01-2000</td>\n",
              "      <td>SW</td>\n",
              "    </tr>\n",
              "  </tbody>\n",
              "</table>\n",
              "</div>\n",
              "    <div class=\"colab-df-buttons\">\n",
              "\n",
              "  <div class=\"colab-df-container\">\n",
              "    <button class=\"colab-df-convert\" onclick=\"convertToInteractive('df-640ac1f4-8a53-45ce-b142-61e53dd91535')\"\n",
              "            title=\"Convert this dataframe to an interactive table.\"\n",
              "            style=\"display:none;\">\n",
              "\n",
              "  <svg xmlns=\"http://www.w3.org/2000/svg\" height=\"24px\" viewBox=\"0 -960 960 960\">\n",
              "    <path d=\"M120-120v-720h720v720H120Zm60-500h600v-160H180v160Zm220 220h160v-160H400v160Zm0 220h160v-160H400v160ZM180-400h160v-160H180v160Zm440 0h160v-160H620v160ZM180-180h160v-160H180v160Zm440 0h160v-160H620v160Z\"/>\n",
              "  </svg>\n",
              "    </button>\n",
              "\n",
              "  <style>\n",
              "    .colab-df-container {\n",
              "      display:flex;\n",
              "      gap: 12px;\n",
              "    }\n",
              "\n",
              "    .colab-df-convert {\n",
              "      background-color: #E8F0FE;\n",
              "      border: none;\n",
              "      border-radius: 50%;\n",
              "      cursor: pointer;\n",
              "      display: none;\n",
              "      fill: #1967D2;\n",
              "      height: 32px;\n",
              "      padding: 0 0 0 0;\n",
              "      width: 32px;\n",
              "    }\n",
              "\n",
              "    .colab-df-convert:hover {\n",
              "      background-color: #E2EBFA;\n",
              "      box-shadow: 0px 1px 2px rgba(60, 64, 67, 0.3), 0px 1px 3px 1px rgba(60, 64, 67, 0.15);\n",
              "      fill: #174EA6;\n",
              "    }\n",
              "\n",
              "    .colab-df-buttons div {\n",
              "      margin-bottom: 4px;\n",
              "    }\n",
              "\n",
              "    [theme=dark] .colab-df-convert {\n",
              "      background-color: #3B4455;\n",
              "      fill: #D2E3FC;\n",
              "    }\n",
              "\n",
              "    [theme=dark] .colab-df-convert:hover {\n",
              "      background-color: #434B5C;\n",
              "      box-shadow: 0px 1px 3px 1px rgba(0, 0, 0, 0.15);\n",
              "      filter: drop-shadow(0px 1px 2px rgba(0, 0, 0, 0.3));\n",
              "      fill: #FFFFFF;\n",
              "    }\n",
              "  </style>\n",
              "\n",
              "    <script>\n",
              "      const buttonEl =\n",
              "        document.querySelector('#df-640ac1f4-8a53-45ce-b142-61e53dd91535 button.colab-df-convert');\n",
              "      buttonEl.style.display =\n",
              "        google.colab.kernel.accessAllowed ? 'block' : 'none';\n",
              "\n",
              "      async function convertToInteractive(key) {\n",
              "        const element = document.querySelector('#df-640ac1f4-8a53-45ce-b142-61e53dd91535');\n",
              "        const dataTable =\n",
              "          await google.colab.kernel.invokeFunction('convertToInteractive',\n",
              "                                                    [key], {});\n",
              "        if (!dataTable) return;\n",
              "\n",
              "        const docLinkHtml = 'Like what you see? Visit the ' +\n",
              "          '<a target=\"_blank\" href=https://colab.research.google.com/notebooks/data_table.ipynb>data table notebook</a>'\n",
              "          + ' to learn more about interactive tables.';\n",
              "        element.innerHTML = '';\n",
              "        dataTable['output_type'] = 'display_data';\n",
              "        await google.colab.output.renderOutput(dataTable, element);\n",
              "        const docLink = document.createElement('div');\n",
              "        docLink.innerHTML = docLinkHtml;\n",
              "        element.appendChild(docLink);\n",
              "      }\n",
              "    </script>\n",
              "  </div>\n",
              "\n",
              "\n",
              "    <div id=\"df-ee0b2eeb-5543-41ed-a323-d502dd7af690\">\n",
              "      <button class=\"colab-df-quickchart\" onclick=\"quickchart('df-ee0b2eeb-5543-41ed-a323-d502dd7af690')\"\n",
              "                title=\"Suggest charts\"\n",
              "                style=\"display:none;\">\n",
              "\n",
              "<svg xmlns=\"http://www.w3.org/2000/svg\" height=\"24px\"viewBox=\"0 0 24 24\"\n",
              "     width=\"24px\">\n",
              "    <g>\n",
              "        <path d=\"M19 3H5c-1.1 0-2 .9-2 2v14c0 1.1.9 2 2 2h14c1.1 0 2-.9 2-2V5c0-1.1-.9-2-2-2zM9 17H7v-7h2v7zm4 0h-2V7h2v10zm4 0h-2v-4h2v4z\"/>\n",
              "    </g>\n",
              "</svg>\n",
              "      </button>\n",
              "\n",
              "<style>\n",
              "  .colab-df-quickchart {\n",
              "      --bg-color: #E8F0FE;\n",
              "      --fill-color: #1967D2;\n",
              "      --hover-bg-color: #E2EBFA;\n",
              "      --hover-fill-color: #174EA6;\n",
              "      --disabled-fill-color: #AAA;\n",
              "      --disabled-bg-color: #DDD;\n",
              "  }\n",
              "\n",
              "  [theme=dark] .colab-df-quickchart {\n",
              "      --bg-color: #3B4455;\n",
              "      --fill-color: #D2E3FC;\n",
              "      --hover-bg-color: #434B5C;\n",
              "      --hover-fill-color: #FFFFFF;\n",
              "      --disabled-bg-color: #3B4455;\n",
              "      --disabled-fill-color: #666;\n",
              "  }\n",
              "\n",
              "  .colab-df-quickchart {\n",
              "    background-color: var(--bg-color);\n",
              "    border: none;\n",
              "    border-radius: 50%;\n",
              "    cursor: pointer;\n",
              "    display: none;\n",
              "    fill: var(--fill-color);\n",
              "    height: 32px;\n",
              "    padding: 0;\n",
              "    width: 32px;\n",
              "  }\n",
              "\n",
              "  .colab-df-quickchart:hover {\n",
              "    background-color: var(--hover-bg-color);\n",
              "    box-shadow: 0 1px 2px rgba(60, 64, 67, 0.3), 0 1px 3px 1px rgba(60, 64, 67, 0.15);\n",
              "    fill: var(--button-hover-fill-color);\n",
              "  }\n",
              "\n",
              "  .colab-df-quickchart-complete:disabled,\n",
              "  .colab-df-quickchart-complete:disabled:hover {\n",
              "    background-color: var(--disabled-bg-color);\n",
              "    fill: var(--disabled-fill-color);\n",
              "    box-shadow: none;\n",
              "  }\n",
              "\n",
              "  .colab-df-spinner {\n",
              "    border: 2px solid var(--fill-color);\n",
              "    border-color: transparent;\n",
              "    border-bottom-color: var(--fill-color);\n",
              "    animation:\n",
              "      spin 1s steps(1) infinite;\n",
              "  }\n",
              "\n",
              "  @keyframes spin {\n",
              "    0% {\n",
              "      border-color: transparent;\n",
              "      border-bottom-color: var(--fill-color);\n",
              "      border-left-color: var(--fill-color);\n",
              "    }\n",
              "    20% {\n",
              "      border-color: transparent;\n",
              "      border-left-color: var(--fill-color);\n",
              "      border-top-color: var(--fill-color);\n",
              "    }\n",
              "    30% {\n",
              "      border-color: transparent;\n",
              "      border-left-color: var(--fill-color);\n",
              "      border-top-color: var(--fill-color);\n",
              "      border-right-color: var(--fill-color);\n",
              "    }\n",
              "    40% {\n",
              "      border-color: transparent;\n",
              "      border-right-color: var(--fill-color);\n",
              "      border-top-color: var(--fill-color);\n",
              "    }\n",
              "    60% {\n",
              "      border-color: transparent;\n",
              "      border-right-color: var(--fill-color);\n",
              "    }\n",
              "    80% {\n",
              "      border-color: transparent;\n",
              "      border-right-color: var(--fill-color);\n",
              "      border-bottom-color: var(--fill-color);\n",
              "    }\n",
              "    90% {\n",
              "      border-color: transparent;\n",
              "      border-bottom-color: var(--fill-color);\n",
              "    }\n",
              "  }\n",
              "</style>\n",
              "\n",
              "      <script>\n",
              "        async function quickchart(key) {\n",
              "          const quickchartButtonEl =\n",
              "            document.querySelector('#' + key + ' button');\n",
              "          quickchartButtonEl.disabled = true;  // To prevent multiple clicks.\n",
              "          quickchartButtonEl.classList.add('colab-df-spinner');\n",
              "          try {\n",
              "            const charts = await google.colab.kernel.invokeFunction(\n",
              "                'suggestCharts', [key], {});\n",
              "          } catch (error) {\n",
              "            console.error('Error during call to suggestCharts:', error);\n",
              "          }\n",
              "          quickchartButtonEl.classList.remove('colab-df-spinner');\n",
              "          quickchartButtonEl.classList.add('colab-df-quickchart-complete');\n",
              "        }\n",
              "        (() => {\n",
              "          let quickchartButtonEl =\n",
              "            document.querySelector('#df-ee0b2eeb-5543-41ed-a323-d502dd7af690 button');\n",
              "          quickchartButtonEl.style.display =\n",
              "            google.colab.kernel.accessAllowed ? 'block' : 'none';\n",
              "        })();\n",
              "      </script>\n",
              "    </div>\n",
              "\n",
              "    </div>\n",
              "  </div>\n"
            ],
            "application/vnd.google.colaboratory.intrinsic+json": {
              "type": "dataframe",
              "variable_name": "df_gabungan",
              "summary": "{\n  \"name\": \"df_gabungan\",\n  \"rows\": 9301,\n  \"fields\": [\n    {\n      \"column\": \"TN\",\n      \"properties\": {\n        \"dtype\": \"number\",\n        \"std\": 0.9692738427532518,\n        \"min\": 22.0,\n        \"max\": 28.2,\n        \"num_unique_values\": 43,\n        \"samples\": [\n          23.4,\n          25.5,\n          27.2\n        ],\n        \"semantic_type\": \"\",\n        \"description\": \"\"\n      }\n    },\n    {\n      \"column\": \"TX\",\n      \"properties\": {\n        \"dtype\": \"number\",\n        \"std\": 1.5288805662364975,\n        \"min\": 24.6,\n        \"max\": 37.0,\n        \"num_unique_values\": 101,\n        \"samples\": [\n          35.3,\n          33.3,\n          33.1\n        ],\n        \"semantic_type\": \"\",\n        \"description\": \"\"\n      }\n    },\n    {\n      \"column\": \"TAVG\",\n      \"properties\": {\n        \"dtype\": \"number\",\n        \"std\": 1.0285490923466982,\n        \"min\": 24.1,\n        \"max\": 34.3,\n        \"num_unique_values\": 75,\n        \"samples\": [\n          24.7,\n          30.6,\n          27.6\n        ],\n        \"semantic_type\": \"\",\n        \"description\": \"\"\n      }\n    },\n    {\n      \"column\": \"RH_AVG\",\n      \"properties\": {\n        \"dtype\": \"number\",\n        \"std\": 6.285835458084943,\n        \"min\": 52.0,\n        \"max\": 97.0,\n        \"num_unique_values\": 59,\n        \"samples\": [\n          83.0,\n          87.0,\n          95.0\n        ],\n        \"semantic_type\": \"\",\n        \"description\": \"\"\n      }\n    },\n    {\n      \"column\": \"RR\",\n      \"properties\": {\n        \"dtype\": \"number\",\n        \"std\": 15.627281605051676,\n        \"min\": 0.0,\n        \"max\": 277.5,\n        \"num_unique_values\": 621,\n        \"samples\": [\n          17.5,\n          39.4,\n          27.6\n        ],\n        \"semantic_type\": \"\",\n        \"description\": \"\"\n      }\n    },\n    {\n      \"column\": \"SS\",\n      \"properties\": {\n        \"dtype\": \"number\",\n        \"std\": 2.701293905276435,\n        \"min\": 0.0,\n        \"max\": 11.0,\n        \"num_unique_values\": 104,\n        \"samples\": [\n          4.7,\n          1.9,\n          7.4\n        ],\n        \"semantic_type\": \"\",\n        \"description\": \"\"\n      }\n    },\n    {\n      \"column\": \"FF_X\",\n      \"properties\": {\n        \"dtype\": \"number\",\n        \"std\": 1.3341796744646943,\n        \"min\": 0.0,\n        \"max\": 16.0,\n        \"num_unique_values\": 18,\n        \"samples\": [\n          4.0,\n          6.0,\n          12.0\n        ],\n        \"semantic_type\": \"\",\n        \"description\": \"\"\n      }\n    },\n    {\n      \"column\": \"DDD_X\",\n      \"properties\": {\n        \"dtype\": \"number\",\n        \"std\": 113.49332037266775,\n        \"min\": 0.0,\n        \"max\": 360.0,\n        \"num_unique_values\": 59,\n        \"samples\": [\n          280.0,\n          200.0,\n          220.0\n        ],\n        \"semantic_type\": \"\",\n        \"description\": \"\"\n      }\n    },\n    {\n      \"column\": \"FF_AVG\",\n      \"properties\": {\n        \"dtype\": \"number\",\n        \"std\": 0.8992376349775468,\n        \"min\": 0.0,\n        \"max\": 6.0,\n        \"num_unique_values\": 8,\n        \"samples\": [\n          1.0,\n          5.0,\n          2.0\n        ],\n        \"semantic_type\": \"\",\n        \"description\": \"\"\n      }\n    },\n    {\n      \"column\": \"TANGGAL\",\n      \"properties\": {\n        \"dtype\": \"string\",\n        \"num_unique_values\": 9283,\n        \"samples\": [\n          \"11-05-2000\",\n          \"14-10-2006\",\n          \"05-02-2002\"\n        ],\n        \"semantic_type\": \"\",\n        \"description\": \"\"\n      }\n    },\n    {\n      \"column\": \"DDD_CAR\",\n      \"properties\": {\n        \"dtype\": \"category\",\n        \"num_unique_values\": 13,\n        \"samples\": [\n          \"E\",\n          \"C \",\n          \"W \"\n        ],\n        \"semantic_type\": \"\",\n        \"description\": \"\"\n      }\n    }\n  ]\n}"
            }
          },
          "metadata": {},
          "execution_count": 28
        }
      ]
    },
    {
      "cell_type": "code",
      "source": [
        "# 1. Membuat copy data untuk eda\n",
        "df_eda1= df_gabungan.copy()\n",
        "df_eda2_clean = df_gabungan2.copy()"
      ],
      "metadata": {
        "id": "IcVnkJMhijBY"
      },
      "id": "IcVnkJMhijBY",
      "execution_count": 30,
      "outputs": []
    },
    {
      "cell_type": "code",
      "source": [
        "# 8. Menyimpan Data\n",
        "df_gabungan.to_csv('df_bmkg1_clean.csv', index=False)\n",
        "df_gabungan2.to_csv('df_bmkg2_clean.csv', index=False)"
      ],
      "metadata": {
        "id": "_yKaL87XaAMm"
      },
      "id": "_yKaL87XaAMm",
      "execution_count": 31,
      "outputs": []
    },
    {
      "cell_type": "markdown",
      "id": "8488ebac",
      "metadata": {
        "id": "8488ebac"
      },
      "source": []
    }
  ],
  "metadata": {
    "kernelspec": {
      "display_name": "Python 3",
      "name": "python3"
    },
    "language_info": {
      "codemirror_mode": {
        "name": "ipython",
        "version": 3
      },
      "file_extension": ".py",
      "mimetype": "text/x-python",
      "name": "python",
      "nbconvert_exporter": "python",
      "pygments_lexer": "ipython3",
      "version": "3.12.1"
    },
    "colab": {
      "provenance": [],
      "gpuType": "T4"
    }
  },
  "nbformat": 4,
  "nbformat_minor": 5
}